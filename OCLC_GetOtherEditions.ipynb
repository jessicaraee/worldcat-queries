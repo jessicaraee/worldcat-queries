{
 "cells": [
  {
   "cell_type": "markdown",
   "id": "5a824cb5",
   "metadata": {},
   "source": [
    "### Use the BookOps WorldCat wrapper to pull brief bibliographic data about other editions based on a list of OCLC numbers"
   ]
  },
  {
   "cell_type": "markdown",
   "id": "603ada75",
   "metadata": {},
   "source": [
    "##### Import libraries\n",
    "This section loads the packages needed to work with data, send API requests, and use the BookOps wrapper with OCLC's WorldCat API."
   ]
  },
  {
   "cell_type": "code",
   "execution_count": null,
   "id": "fadfbbf6",
   "metadata": {},
   "outputs": [],
   "source": [
    "import pandas as pd\n",
    "import requests\n",
    "from bookops_worldcat import WorldcatAccessToken\n",
    "import time\n",
    "import re\n",
    "import json"
   ]
  },
  {
   "cell_type": "markdown",
   "id": "148a47de",
   "metadata": {},
   "source": [
    "##### Configure access token\n",
    "This section contains the authentication details required by the WorldCat API. 'mykey' and 'mysecret' should be updated based on the user's credentials."
   ]
  },
  {
   "cell_type": "code",
   "execution_count": null,
   "id": "2f2c28aa",
   "metadata": {},
   "outputs": [],
   "source": [
    "#Configure access token\n",
    "WORLDCAT_KEY = 'mykey'\n",
    "WORLDCAT_SECRET = 'mysecret'\n",
    "SCOPES = 'WorldCatMetadataAPI'"
   ]
  },
  {
   "cell_type": "markdown",
   "id": "48b942e1",
   "metadata": {},
   "source": [
    "##### Configure files\n",
    "This section contains the filepath and name of the file that will be read (INPUT_FILE) and the file where results will be saved (OUTPUT_FILE)."
   ]
  },
  {
   "cell_type": "code",
   "execution_count": null,
   "id": "818fd747",
   "metadata": {},
   "outputs": [],
   "source": [
    "#Configure files\n",
    "INPUT_FILE = 'FILENAME'\n",
    "OUTPUT_FILE = 'FILENAME.xlsx'"
   ]
  },
  {
   "cell_type": "markdown",
   "id": "bc5d12b5",
   "metadata": {},
   "source": [
    "##### Generate an access token\n",
    "The **get_token** function uses the API credentials specified above to create a token to access the WorldCat API. Tokens expire after twenty minutes, and should automatically refresh within the script."
   ]
  },
  {
   "cell_type": "code",
   "execution_count": null,
   "id": "2d240092",
   "metadata": {},
   "outputs": [],
   "source": [
    "#Generate an access token\n",
    "def get_token():\n",
    "    return WorldcatAccessToken(\n",
    "        key=WORLDCAT_KEY,\n",
    "        secret=WORLDCAT_SECRET,\n",
    "        scopes=SCOPES\n",
    "    )"
   ]
  },
  {
   "cell_type": "markdown",
   "id": "a4c77a63",
   "metadata": {},
   "source": [
    "##### Get OCLC numbers\n",
    "\n",
    "The **get_other_editions** function takes an OCLC number from INPUT_FILE, queries the WorldCat API, and returns the related OCLC numbers associated with the input number. For each related OCLC number, three fields are returned:\n",
    "1. Other ISBNs: All ISBNs associated with the related OCLC number, returned in a single field and pipe-delimited\n",
    "2. Format: Archv, ArtChapter, AudioBook, Book, CompFile, Encyc, Game, Image, IntMM, Jrnl, Kit, Map, MsScr, Music, News, Object, Snd, Toy, Video, Vis, Web\n",
    "3. Specific format: 2D, Artcl, Bluray, Braille, Cassette, CD, Chptr, Continuing, Digital, DVD, Encyc, Film, LargePrint, LP, Mic, mss, PrintBook, rec, Thsis, VHS\n",
    "\n",
    "The format fields are included to allow for optional later filtering to include digital or print books only."
   ]
  },
  {
   "cell_type": "code",
   "execution_count": null,
   "id": "22d8f31f",
   "metadata": {},
   "outputs": [],
   "source": [
    "#Get other editions - OCLC numbers\n",
    "def get_other_editions(oclc_number, token, record_id):\n",
    "    try:\n",
    "        url = f'https://americas.discovery.api.oclc.org/worldcat/search/v2/brief-bibs/{oclc_number}/other-editions'\n",
    "        headers = {\n",
    "            'Authorization': f'Bearer {token.token_str}',\n",
    "            'Accept': 'application/json'\n",
    "        }\n",
    "\n",
    "        response = requests.get(url, headers=headers, timeout=30)\n",
    "        response.raise_for_status()\n",
    "        data = response.json()\n",
    "\n",
    "        rows = []\n",
    "\n",
    "        for rec in data.get(\"briefRecords\", []):\n",
    "            rec_oclcs = rec.get(\"oclcNumber\", [])\n",
    "            isbns = rec.get(\"isbns\", [])\n",
    "            format = rec.get(\"generalFormat\", \"None\")\n",
    "            specific_format = rec.get(\"specificFormat\", \"None\")\n",
    "\n",
    "            if isinstance(rec_oclcs, list) and rec_oclcs:\n",
    "                for oclc in rec_oclcs:\n",
    "                    isbn_str = \", \".join(isbns) if isinstance(isbns, list) else str(isbns)\n",
    "\n",
    "                    rows.append({\n",
    "                        \"OTHER_OCLCS\": str(oclc).strip(),\n",
    "                        \"OTHER_ISBNS\": isbn_str.strip(),\n",
    "                        \"FORMAT\": str(format),\n",
    "                        \"SPECIFIC_FORMAT\": str(specific_format),\n",
    "                        \"RECORD_ID\": record_id\n",
    "                    })\n",
    "            else:\n",
    "                rows.append({\n",
    "                    \"OTHER_OCLCS\": str(rec_oclcs).strip(),\n",
    "                    \"OTHER_ISBNS\": \" | \".join(isbns) if isinstance(isbns, list) else str(isbns),\n",
    "                    \"FORMAT\": str(format),\n",
    "                    \"SPECIFIC_FORMAT\": str(specific_format),\n",
    "                    \"RECORD_ID\": record_id\n",
    "                })\n",
    "        if not rows: rows.append({\"OTHER_OCLCS\": \"None\", \"OTHER_ISBNS\": \"None\", \"FORMAT\": \"None\", \"SPECIFIC_FORMAT\": \"None\", \"RECORD_ID\": record_id})\n",
    "\n",
    "        return rows\n",
    "\n",
    "    except Exception as e:\n",
    "        print(f\"[ERROR] {oclc_number}: {e}\")\n",
    "        return [{\"OTHER_OCLCS\": \"None\", \"OTHER_ISBNS\": \"None\", \"FORMAT\": \"None\", \"SPECIFIC_FORMAT\": \"None\", \"RECORD_ID\": record_id}]\n"
   ]
  },
  {
   "cell_type": "markdown",
   "id": "928d4cd0",
   "metadata": {},
   "source": [
    "##### Run the workflow\n",
    "\n",
    "The **main** function performs the following steps:\n",
    "1. Reads INPUT_FILE\n",
    "2. Creates an API token\n",
    "3. Runs through each OCLC number and sends a query to get all related OCLC numbers and their corresponding data\n",
    "4. Collects the results of the queries and merges them back with the original data\n",
    "5. Exports the complete dataset as an Excel file\n",
    "6. Filters the results to only include print books\n",
    "7. Exports the print only dataset as an Excel file, or prints a message saying no print book matches found\n",
    "\n",
    "Depending on the structure of INPUT_FILE, names of fields may need to be updated. For example, the file structure here uses \"OCLC_NUMBER\" as a field name. A different file may use \"network_number\" instead, which means either the script below needs to be updated to use \"network_number\", or INPUT_FILE needs to be updated to use \"OCLC_NUMBER\"."
   ]
  },
  {
   "cell_type": "code",
   "execution_count": null,
   "id": "f7dc3c8e",
   "metadata": {},
   "outputs": [],
   "source": [
    "#Run query and export results\n",
    "def main():\n",
    "    oclclist_df = pd.read_excel(INPUT_FILE, dtype={'RECORD_ID': str, 'OCLC_NUMBER': str})\n",
    "    all_results = []\n",
    "    token = get_token()\n",
    "\n",
    "    for _, row in oclclist_df.iterrows():\n",
    "        oclc_number = row['OCLC_NUMBER']\n",
    "        record_id = row['RECORD_ID']\n",
    "        if not oclc_number:\n",
    "            continue\n",
    "\n",
    "        if token.is_expired():\n",
    "            print(\"Refreshing token!\")\n",
    "            token = get_token()\n",
    "\n",
    "        rows = get_other_editions(oclc_number, token, record_id)\n",
    "        all_results.extend(rows)\n",
    "\n",
    "        print(f\"{oclc_number}: {len(rows)} rows returned\")\n",
    "        time.sleep(0.2)\n",
    "\n",
    "    results_df = pd.DataFrame(all_results)\n",
    "\n",
    "    final_df = oclclist_df.merge(results_df, on=\"RECORD_ID\", how=\"left\")\n",
    "    final_df.to_excel(OUTPUT_FILE, index=False)\n",
    "    print(f\"Other editions data exported to {OUTPUT_FILE}.\")\n",
    "\n",
    "    #Optional filter to export separate file with only rows matching parameters, update or comment out as needed\n",
    "    filtered_df = final_df[final_df['SPECIFIC_FORMAT'] == 'PrintBook']\n",
    "    if not filtered_df.empty:\n",
    "        filtered_file = OUTPUT_FILE.replace(\".xlsx\", \"_PrintOnly.xlsx\")\n",
    "        filtered_df.to_excel(filtered_file, index=False)\n",
    "        print(f\"PrintBook data exported to {filtered_file}\")\n",
    "    else:\n",
    "        print(\"No rows with SPECIFIC_FORMAT = 'PrintBook' found.\")\n",
    "\n",
    "if __name__ == \"__main__\":\n",
    "    main()\n"
   ]
  }
 ],
 "metadata": {
  "kernelspec": {
   "display_name": "Python 3",
   "language": "python",
   "name": "python3"
  },
  "language_info": {
   "codemirror_mode": {
    "name": "ipython",
    "version": 3
   },
   "file_extension": ".py",
   "mimetype": "text/x-python",
   "name": "python",
   "nbconvert_exporter": "python",
   "pygments_lexer": "ipython3",
   "version": "3.12.5"
  }
 },
 "nbformat": 4,
 "nbformat_minor": 5
}
