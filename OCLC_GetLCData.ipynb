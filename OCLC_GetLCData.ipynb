{
 "cells": [
  {
   "cell_type": "markdown",
   "id": "5a824cb5",
   "metadata": {},
   "source": [
    "##### Use the BookOps WorldCat wrapper to pull LC classification data based on a list of OCLC numbers"
   ]
  },
  {
   "cell_type": "markdown",
   "id": "603ada75",
   "metadata": {},
   "source": [
    "##### Import libraries\n",
    "This section loads the packages needed to work with data, send API requests, and use the BookOps wrapper with OCLC's WorldCat API."
   ]
  },
  {
   "cell_type": "code",
   "execution_count": null,
   "id": "fadfbbf6",
   "metadata": {},
   "outputs": [],
   "source": [
    "import pandas as pd\n",
    "import requests\n",
    "from bookops_worldcat import WorldcatAccessToken\n",
    "import time\n",
    "import re"
   ]
  },
  {
   "cell_type": "markdown",
   "id": "148a47de",
   "metadata": {},
   "source": [
    "##### Configure access token\n",
    "This section contains the authentication details required by the WorldCat API. 'mykey' and 'mysecret' should be updated based on the user's credentials."
   ]
  },
  {
   "cell_type": "code",
   "execution_count": null,
   "id": "2f2c28aa",
   "metadata": {},
   "outputs": [],
   "source": [
    "#Configure access token\n",
    "WORLDCAT_KEY = 'mykey'\n",
    "WORLDCAT_SECRET = 'mysecret'\n",
    "SCOPES = 'WorldCatMetadataAPI'"
   ]
  },
  {
   "cell_type": "markdown",
   "id": "48b942e1",
   "metadata": {},
   "source": [
    "##### Configure files\n",
    "This section contains the filepath and name of the file that will be read (INPUT_FILE) and the file where results will be saved (OUTPUT_FILE)."
   ]
  },
  {
   "cell_type": "code",
   "execution_count": null,
   "id": "818fd747",
   "metadata": {},
   "outputs": [],
   "source": [
    "#Configure files\n",
    "INPUT_FILE = 'FILENAME'\n",
    "OUTPUT_FILE = 'FILENAME.xlsx'"
   ]
  },
  {
   "cell_type": "markdown",
   "id": "bc5d12b5",
   "metadata": {},
   "source": [
    "##### Generate an access token\n",
    "The **get_token** function uses the API credentials specified above to create a token to access the WorldCat API. Tokens expire after twenty minutes, and should automatically refresh within the script."
   ]
  },
  {
   "cell_type": "code",
   "execution_count": null,
   "id": "2d240092",
   "metadata": {},
   "outputs": [],
   "source": [
    "#Generate an access token\n",
    "def get_token():\n",
    "    return WorldcatAccessToken(\n",
    "        key=WORLDCAT_KEY,\n",
    "        secret=WORLDCAT_SECRET,\n",
    "        scopes=SCOPES\n",
    "    )"
   ]
  },
  {
   "cell_type": "markdown",
   "id": "a4c77a63",
   "metadata": {},
   "source": [
    "##### Get LC data\n",
    "\n",
    "The **get_classification_bibs** function takes an OCLC number from INPUT_FILE, queries the WorldCat API, and returns the bib record associated with the OCLC number."
   ]
  },
  {
   "cell_type": "code",
   "execution_count": null,
   "id": "22d8f31f",
   "metadata": {},
   "outputs": [],
   "source": [
    "#Get LC data\n",
    "def get_classification_bibs(oclc_number, token):\n",
    "    try:\n",
    "        url = f'https://metadata.api.oclc.org/worldcat/search/classification-bibs/{oclc_number}'\n",
    "        headers = {\n",
    "            'Authorization': f'Bearer {token.token_str}',\n",
    "            'Accept': 'application/json'\n",
    "        }\n",
    "        response = requests.get(url, headers=headers)\n",
    "\n",
    "        # Raise error if request failed\n",
    "        response.raise_for_status()\n",
    "        return response.json()\n",
    "\n",
    "    except requests.RequestException as e:\n",
    "        print(f\"[ERROR] Failed to fetch data for OCLC {oclc_number}: {e}\")\n",
    "        return {}"
   ]
  },
  {
   "cell_type": "markdown",
   "id": "928d4cd0",
   "metadata": {},
   "source": [
    "##### Clean the resulting data\n",
    "\n",
    "The **clean_lc_data** function cleans the returned data by stripping leading and trailing spaces, converting text to uppercase, removing unwanted characters and trailing punctuation, and standardizing the format."
   ]
  },
  {
   "cell_type": "code",
   "execution_count": null,
   "id": "f7dc3c8e",
   "metadata": {},
   "outputs": [],
   "source": [
    "#Clean LC data to remove apostrophes/brackets, normalize spacing, and remove trailing punctuation\n",
    "def clean_lc_data(lc_value):\n",
    "    if not lc_value or lc_value == \"None\":\n",
    "        return None\n",
    "    lc_value = lc_value.strip().upper()\n",
    "    lc_value = re.sub(r\"[\\'\\[\\]]\", '', lc_value)\n",
    "    lc_value = re.sub(r'\\s+', ' ', lc_value)\n",
    "    lc_value = re.sub(r'[.,;]+$', '', lc_value)\n",
    "    if re.match(r'^[A-Z]{1,3}\\d+', lc_value):\n",
    "        return lc_value\n",
    "    return None"
   ]
  },
  {
   "cell_type": "markdown",
   "id": "b7ceb106",
   "metadata": {},
   "source": [
    "##### Run the workflow\n",
    "\n",
    "The **main** function performs the following steps:\n",
    "1. Reads INPUT_FILE\n",
    "2. Creates an API token\n",
    "3. Runs through each OCLC number and sends a query to get the most frequently used LC classification\n",
    "4. Cleans the resulting data\n",
    "5. Collects the results of the queries and merges them back with the original data\n",
    "6. If RECORD_ID does not exist in INPUT_FILE, adds a RECORD_ID column with a unique ID for each record\n",
    "7. Exports the final dataset as an Excel file\n",
    "\n",
    "Depending on the structure of INPUT_FILE, names of fields may need to be updated. For example, the file structure here uses \"OCLC_NUMBER\" as a field name. A different file may use \"network_number\" instead, which means either the script below needs to be updated to use \"network_number\", or INPUT_FILE needs to be updated to use \"OCLC_NUMBER\".\n"
   ]
  },
  {
   "cell_type": "code",
   "execution_count": null,
   "id": "84e9d5bc",
   "metadata": {},
   "outputs": [],
   "source": [
    "#Run query and export results\n",
    "def main():\n",
    "    oclclist_df = pd.read_excel(INPUT_FILE, dtype={'ISBN': str, 'OCLC_NUMBER': str})\n",
    "    subjects_data = []\n",
    "\n",
    "    token = get_token()\n",
    "\n",
    "    for oclc in oclclist_df['OCLC_NUMBER']:\n",
    "        oclc = str(oclc).strip()\n",
    "        if not oclc:\n",
    "            continue\n",
    "\n",
    "        if token.is_expired():\n",
    "            print(\"Refreshing token!\")\n",
    "            token = get_token()\n",
    "\n",
    "        result = get_classification_bibs(oclc, token)\n",
    "\n",
    "        lc_data = result.get('lc', {}).get('mostPopular', 'None')\n",
    "        subjects_data.append({'OCLC_NUMBER': oclc, 'LC': lc_data})\n",
    "        print(f\"{oclc}, {lc_data}\")\n",
    "        time.sleep(0.2)\n",
    "\n",
    "    subjects_df = pd.DataFrame(subjects_data)\n",
    "\n",
    "    final_df = oclclist_df.merge(subjects_df, on='OCLC_NUMBER', how='left')\n",
    "    if 'RECORD_ID' not in final_df.columns:\n",
    "        final_df.insert(0, 'RECORD_ID', range(1, len(final_df) + 1))\n",
    "    final_df.to_excel(OUTPUT_FILE, index=False)\n",
    "    print(f\"Data exported to {OUTPUT_FILE}\")\n",
    "\n",
    "if __name__ == \"__main__\":\n",
    "    main()\n",
    "    "
   ]
  }
 ],
 "metadata": {
  "kernelspec": {
   "display_name": "Python 3",
   "language": "python",
   "name": "python3"
  },
  "language_info": {
   "codemirror_mode": {
    "name": "ipython",
    "version": 3
   },
   "file_extension": ".py",
   "mimetype": "text/x-python",
   "name": "python",
   "nbconvert_exporter": "python",
   "pygments_lexer": "ipython3",
   "version": "3.12.5"
  }
 },
 "nbformat": 4,
 "nbformat_minor": 5
}
