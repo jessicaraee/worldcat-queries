{
 "cells": [
  {
   "cell_type": "markdown",
   "id": "5a824cb5",
   "metadata": {},
   "source": [
    "### Use the BookOps WorldCat wrapper to pull OCLC numbers based on a list of ISBNs"
   ]
  },
  {
   "cell_type": "markdown",
   "id": "603ada75",
   "metadata": {},
   "source": [
    "##### Import libraries\n",
    "This section loads the packages needed to work with data, send API requests, and use the BookOps wrapper with OCLC's WorldCat API."
   ]
  },
  {
   "cell_type": "code",
   "execution_count": null,
   "id": "fadfbbf6",
   "metadata": {},
   "outputs": [],
   "source": [
    "import pandas as pd\n",
    "import requests\n",
    "from bookops_worldcat import WorldcatAccessToken\n",
    "import time\n",
    "import re"
   ]
  },
  {
   "cell_type": "markdown",
   "id": "148a47de",
   "metadata": {},
   "source": [
    "##### Configure access token\n",
    "This section contains the authentication details required by the WorldCat API. 'mykey' and 'mysecret' should be updated based on the user's credentials."
   ]
  },
  {
   "cell_type": "code",
   "execution_count": null,
   "id": "2f2c28aa",
   "metadata": {},
   "outputs": [],
   "source": [
    "#Configure access token\n",
    "WORLDCAT_KEY = 'mykey'\n",
    "WORLDCAT_SECRET = 'mysecret'\n",
    "SCOPES = 'WorldCatMetadataAPI'"
   ]
  },
  {
   "cell_type": "markdown",
   "id": "48b942e1",
   "metadata": {},
   "source": [
    "##### Configure files\n",
    "This section contains the filepath and name of the file that will be read (INPUT_FILE) and the file where results will be saved (OUTPUT_FILE)."
   ]
  },
  {
   "cell_type": "code",
   "execution_count": null,
   "id": "818fd747",
   "metadata": {},
   "outputs": [],
   "source": [
    "#Configure files\n",
    "INPUT_FILE = 'FILENAME'\n",
    "OUTPUT_FILE = 'FILENAME.xlsx'"
   ]
  },
  {
   "cell_type": "markdown",
   "id": "bc5d12b5",
   "metadata": {},
   "source": [
    "##### Generate an access token\n",
    "The **get_token** function uses the API credentials specified above to create a token to access the WorldCat API. Tokens expire after twenty minutes, and should automatically refresh within the script."
   ]
  },
  {
   "cell_type": "code",
   "execution_count": null,
   "id": "2d240092",
   "metadata": {},
   "outputs": [],
   "source": [
    "#Generate an access token\n",
    "def get_token():\n",
    "    return WorldcatAccessToken(\n",
    "        key=WORLDCAT_KEY,\n",
    "        secret=WORLDCAT_SECRET,\n",
    "        scopes=SCOPES\n",
    "    )"
   ]
  },
  {
   "cell_type": "markdown",
   "id": "a4c77a63",
   "metadata": {},
   "source": [
    "##### Get OCLC numbers\n",
    "\n",
    "The **get_oclc_numbers** function takes an ISBN from INPUT_FILE, queries the WorldCat API, and returns the first OCLC number associated with the ISBN."
   ]
  },
  {
   "cell_type": "code",
   "execution_count": null,
   "id": "22d8f31f",
   "metadata": {},
   "outputs": [],
   "source": [
    "#Get OCLC numbers\n",
    "def get_oclc_numbers(isbn, token):\n",
    "    try:\n",
    "        url = f'https://americas.discovery.api.oclc.org/worldcat/search/v2/brief-bibs'\n",
    "        headers = {\n",
    "            'Authorization': f'Bearer {token.token_str}',\n",
    "            'Accept': 'application/json'\n",
    "        }\n",
    "        params = {'q': f'bn:{isbn}'}\n",
    "\n",
    "        try:\n",
    "            response = requests.get(url, headers=headers, params=params)\n",
    "            response.raise_for_status()\n",
    "            data = response.json()\n",
    "            return data[\"briefRecords\"][0][\"oclcNumber\"]\n",
    "        \n",
    "        except (KeyError, IndexError, TypeError):\n",
    "            return {}\n",
    "        \n",
    "    except requests.RequestException as e:\n",
    "        print(f\"[ERROR] Failed to fetch data for ISBN {isbn}: {e}\")\n",
    "        return {}"
   ]
  },
  {
   "cell_type": "markdown",
   "id": "928d4cd0",
   "metadata": {},
   "source": [
    "##### Run the workflow\n",
    "\n",
    "The **main** function performs the following steps:\n",
    "1. Reads INPUT_FILE\n",
    "2. Creates an API token\n",
    "3. Runs through each ISBN and sends a query to get a corresponding OCLC number\n",
    "4. Collects the results of the queries and merges them back with the original data\n",
    "5. Adds a RECORD_ID column with a unique ID for each record\n",
    "6. Exports the final dataset as an Excel file\n",
    "\n",
    "Depending on the structure of INPUT_FILE, names of fields may need to be updated. For example, the file structure here uses \"e-isbn\" as a field name. A different file may use \"online_identifier\" instead, which means either the script below needs to be updated to use \"online_identifier\", or INPUT_FILE needs to be updated to use \"e-isbn\"."
   ]
  },
  {
   "cell_type": "code",
   "execution_count": null,
   "id": "f7dc3c8e",
   "metadata": {},
   "outputs": [],
   "source": [
    "#Run query and export results\n",
    "def main():\n",
    "    isbnlist_df = pd.read_excel(INPUT_FILE, dtype={'publication_title': str, 'e-isbn': str})\n",
    "\n",
    "    oclc_numbers = []\n",
    "\n",
    "    token = get_token()\n",
    "\n",
    "    for isbn in isbnlist_df['e-isbn']:\n",
    "        isbn = str(isbn).strip()\n",
    "        if not isbn:\n",
    "            continue\n",
    "\n",
    "        if token.is_expired():\n",
    "            print(\"Refreshing token!\")\n",
    "            token = get_token()\n",
    "\n",
    "        result = get_oclc_numbers(isbn, token)\n",
    "\n",
    "        oclc_number = result if result and result != \"None\" else \"None\"\n",
    "\n",
    "        oclc_numbers.append({\"e-isbn\": isbn, \"OCLC_NUMBER\": oclc_number})\n",
    "\n",
    "        print(f\"{isbn}, {result}\")\n",
    "        time.sleep(0.2)\n",
    "\n",
    "    oclc_numbers = pd.DataFrame(oclc_numbers)\n",
    "\n",
    "    final_df = isbnlist_df.merge(oclc_numbers, on='e-isbn', how='left')\n",
    "    final_df.insert(0, 'RECORD_ID', range(1, len(final_df) + 1))\n",
    "    final_df.to_excel(OUTPUT_FILE, index=False)\n",
    "    print(f\"Data exported to {OUTPUT_FILE}\")\n",
    "\n",
    "if __name__ == \"__main__\":\n",
    "    main()"
   ]
  },
  {
   "cell_type": "markdown",
   "id": "b7ceb106",
   "metadata": {},
   "source": [
    "##### Next steps\n",
    "OCLC numbers can be used in the below workflows:\n",
    "1. Get other editions - OCLCGetOtherEditions.ipynb\n",
    "2. Get LC classification data - OCLC_GetLCData.ipynb\n",
    "3. Check library holdings/total OCLC holdings - OCLC_CheckLibraryHoldings.ipynb"
   ]
  }
 ],
 "metadata": {
  "kernelspec": {
   "display_name": "Python 3",
   "language": "python",
   "name": "python3"
  },
  "language_info": {
   "codemirror_mode": {
    "name": "ipython",
    "version": 3
   },
   "file_extension": ".py",
   "mimetype": "text/x-python",
   "name": "python",
   "nbconvert_exporter": "python",
   "pygments_lexer": "ipython3",
   "version": "3.12.5"
  }
 },
 "nbformat": 4,
 "nbformat_minor": 5
}
