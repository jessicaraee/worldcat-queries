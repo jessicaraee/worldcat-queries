{
 "cells": [
  {
   "cell_type": "markdown",
   "id": "5a824cb5",
   "metadata": {},
   "source": [
    "### Use the BookOps WorldCat wrapper to check for holdings based on a designated library (or list of libraries) and a list of OCLC numbers"
   ]
  },
  {
   "cell_type": "markdown",
   "id": "603ada75",
   "metadata": {},
   "source": [
    "##### Import libraries\n",
    "This section loads the packages needed to work with data, send API requests, and use the BookOps wrapper with OCLC's WorldCat API."
   ]
  },
  {
   "cell_type": "code",
   "execution_count": null,
   "id": "fadfbbf6",
   "metadata": {},
   "outputs": [],
   "source": [
    "import pandas as pd\n",
    "import requests\n",
    "from bookops_worldcat import WorldcatAccessToken\n",
    "import time"
   ]
  },
  {
   "cell_type": "markdown",
   "id": "148a47de",
   "metadata": {},
   "source": [
    "##### Configure access token\n",
    "This section contains the authentication details required by the WorldCat API. 'mykey' and 'mysecret' should be updated based on the user's credentials."
   ]
  },
  {
   "cell_type": "code",
   "execution_count": null,
   "id": "2f2c28aa",
   "metadata": {},
   "outputs": [],
   "source": [
    "#Configure access token\n",
    "WORLDCAT_KEY = 'mykey'\n",
    "WORLDCAT_SECRET = 'mysecret'\n",
    "SCOPES = 'WorldCatMetadataAPI'"
   ]
  },
  {
   "cell_type": "markdown",
   "id": "48b942e1",
   "metadata": {},
   "source": [
    "##### Configure files\n",
    "This section contains the filepath and name of the file that will be read (INPUT_FILE) and the file where results will be saved (OUTPUT_FILE)."
   ]
  },
  {
   "cell_type": "code",
   "execution_count": null,
   "id": "818fd747",
   "metadata": {},
   "outputs": [],
   "source": [
    "#Configure files\n",
    "INPUT_FILE = 'FILENAME'\n",
    "OUTPUT_FILE = 'FILENAME.xlsx'"
   ]
  },
  {
   "cell_type": "markdown",
   "id": "2f501f31",
   "metadata": {},
   "source": [
    "##### Designate libraries\n",
    "Enter the OCLC symbol for each library that needs to be checked. Each symbol should be contained in single quotation marks and multiple symbols should be separated by a comma. Ex: ['ZCU', 'PCU', 'HUL', 'NYP', 'YUS']"
   ]
  },
  {
   "cell_type": "code",
   "execution_count": null,
   "id": "517e32b8",
   "metadata": {},
   "outputs": [],
   "source": [
    "#Configure libraries\n",
    "LIBRARY_SYMBOLS = ['ZCU']"
   ]
  },
  {
   "cell_type": "markdown",
   "id": "bc5d12b5",
   "metadata": {},
   "source": [
    "##### Generate an access token\n",
    "The **get_token** function uses the API credentials specified above to create a token to access the WorldCat API. Tokens expire after twenty minutes, and should automatically refresh within the script."
   ]
  },
  {
   "cell_type": "code",
   "execution_count": null,
   "id": "2d240092",
   "metadata": {},
   "outputs": [],
   "source": [
    "#Generate an access token\n",
    "def get_token():\n",
    "    return WorldcatAccessToken(\n",
    "        key=WORLDCAT_KEY,\n",
    "        secret=WORLDCAT_SECRET,\n",
    "        scopes=SCOPES\n",
    "    )"
   ]
  },
  {
   "cell_type": "markdown",
   "id": "a4c77a63",
   "metadata": {},
   "source": [
    "##### Get library holdings data\n",
    "\n",
    "The **get_holdings_data** function takes an OCLC number from INPUT_FILE and the library designated in LIBRARY_SYMBOLS, queries the WorldCat API, checks whether the library has the bibliographic record in its holdings, and returns the library symbol as LIBRARY and the count of holdings as LIBRARY_HOLDINGS_COUNT. If multiple libraries have been designated in LIBRARY_SYMBOLS, each library with a holding will be included in the resulting LIBRARY field. If no holdings are found, the LIBRARY field will show []. "
   ]
  },
  {
   "cell_type": "code",
   "execution_count": null,
   "id": "22d8f31f",
   "metadata": {},
   "outputs": [],
   "source": [
    "#Get library holdings data\n",
    "def get_holdings_data(oclc_number, token, library_symbol):\n",
    "    if isinstance(library_symbol, str):\n",
    "        library_symbol = [library_symbol]\n",
    "\n",
    "    try:\n",
    "        url = f'https://americas.discovery.api.oclc.org/worldcat/search/v2/bibs-holdings'\n",
    "        headers = {\n",
    "            'Authorization': f'Bearer {token.token_str}',\n",
    "            'Accept': 'application/json'\n",
    "        }\n",
    "\n",
    "        params = {\n",
    "            'oclcNumber': str(oclc_number).strip(),\n",
    "            'heldBySymbol': ','.join(library_symbol),\n",
    "            'limit': 50\n",
    "        }\n",
    "        response = requests.get(url, headers=headers, params=params, timeout=30)\n",
    "        response.raise_for_status()\n",
    "        data = response.json()\n",
    "\n",
    "        rows = []\n",
    "\n",
    "        number_of_records = data.get(\"numberOfRecords\", 0)\n",
    "        if number_of_records > 0:\n",
    "            first_bib = data['briefRecords'][0]\n",
    "            if 'institutionHolding' in first_bib and 'briefHoldings' in first_bib['institutionHolding']:\n",
    "                brief_holdings = first_bib['institutionHolding']['briefHoldings']\n",
    "                library_symbol = [entry['oclcSymbol'] for entry in brief_holdings if 'oclcSymbol' in entry]\n",
    "                rows.append({\n",
    "                    \"OCLC_NUMBER\": oclc_number,\n",
    "                    \"LIBRARY\": library_symbol,\n",
    "                    \"LIBRARY_HOLDINGS_COUNT\": len(library_symbol)\n",
    "                })\n",
    "            else:\n",
    "                rows.append({\n",
    "                    \"OCLC_NUMBER\": oclc_number,\n",
    "                    \"LIBRARY\": [],\n",
    "                    \"LIBRARY_HOLDINGS_COUNT\": 0\n",
    "                })\n",
    "        else:\n",
    "            rows.append({\n",
    "                \"OCLC_NUMBER\": oclc_number,\n",
    "                \"LIBRARY\": [],\n",
    "                \"LIBRARY_HOLDINGS_COUNT\": 0\n",
    "            })\n",
    "        return rows\n",
    "\n",
    "    except Exception as e:\n",
    "        print(f\"[ERROR] {oclc_number}: {e}\")\n",
    "        return [{\n",
    "            \"OCLC_NUMBER\": oclc_number,\n",
    "            \"LIBRARY\": [],\n",
    "            \"LIBRARY_HOLDINGS_COUNT\": 0\n",
    "        }]\n"
   ]
  },
  {
   "cell_type": "markdown",
   "id": "928d4cd0",
   "metadata": {},
   "source": [
    "##### Get summary holdings data\n",
    "\n",
    "The **get_summary_data** function takes an OCLC number from INPUT_FILE, queries the WorldCat API, and returns a count of libraries worldwide that hold the item in their collection. This count is a count of the libraries holding the item, not a count of the items held."
   ]
  },
  {
   "cell_type": "code",
   "execution_count": null,
   "id": "f7dc3c8e",
   "metadata": {},
   "outputs": [],
   "source": [
    "#Get summary data of total holdings in OCLC\n",
    "def get_summary_data(oclc_number, token):\n",
    "    try:\n",
    "        url = f'https://americas.discovery.api.oclc.org/worldcat/search/v2/bibs-summary-holdings'\n",
    "        headers = {\n",
    "            'Authorization': f'Bearer {token.token_str}',\n",
    "            'Accept': 'application/json'\n",
    "        }\n",
    "        params = {'oclcNumber': str(oclc_number).strip()}\n",
    "        response = requests.get(url, headers=headers, params=params, timeout=30)\n",
    "        response.raise_for_status()\n",
    "        data = response.json()\n",
    "\n",
    "        rows = []\n",
    "\n",
    "        number_of_records = data.get(\"numberOfRecords\", 0)\n",
    "        if number_of_records > 0:\n",
    "            first_bib_summary = data['briefRecords'][0]\n",
    "            total_holding_count = first_bib_summary['institutionHolding']['totalHoldingCount']\n",
    "            rows.append({\n",
    "                \"OCLC_NUMBER\": str(oclc_number).strip(),\n",
    "                \"TOTAL_LIBRARIES_HOLDING_ITEM\": total_holding_count\n",
    "            })\n",
    "        else:\n",
    "            rows.append({\n",
    "                \"OCLC_NUMBER\": str(oclc_number).strip(),\n",
    "                \"TOTAL_LIBRARIES_HOLDING_ITEM\": 0\n",
    "            })\n",
    "        return rows\n",
    "\n",
    "    except Exception as e:\n",
    "        print(f\"[ERROR] {oclc_number}: {e}\")\n",
    "        return [{\n",
    "            \"OCLC_NUMBER\": \"None\",\n",
    "            \"TOTAL_LIBRARIES_HOLDING_ITEM\": 0\n",
    "        }]\n"
   ]
  },
  {
   "cell_type": "markdown",
   "id": "e7c8377f",
   "metadata": {},
   "source": [
    "##### Run the workflow\n",
    "\n",
    "The **main** function performs the following steps:\n",
    "1. Reads INPUT_FILE\n",
    "2. Creates an API token\n",
    "3. Runs through each OCLC number and sends a query to get holdings data based on LIBRARY_SYMBOLS\n",
    "4. If get_summary = True, runs through each OCLC number and sends a query to get total holdings data across all libraries in OCLC\n",
    "4. Collects the results of the queries and merges them back with the original data\n",
    "5. Exports the complete dataset as an Excel file\n",
    "6. Filters the results to only include items held by any of the libraries included on LIBRARY_SYMBOLS\n",
    "7. Exports the filtered dataset as an Excel file, or prints a message saying no matches found\n",
    "\n",
    "Depending on the structure of INPUT_FILE, names of fields may need to be updated. For example, the file structure here uses \"OCLC_NUMBER\" as a field name. A different file may use \"network_number\" instead, which means either the script below needs to be updated to use \"network_number\", or INPUT_FILE needs to be updated to use \"OCLC_NUMBER\"."
   ]
  },
  {
   "cell_type": "code",
   "execution_count": null,
   "id": "ce4e436e",
   "metadata": {},
   "outputs": [],
   "source": [
    "#Run query and export results\n",
    "def main():\n",
    "    oclclist_df = pd.read_excel(INPUT_FILE, dtype={'RECORD_ID': str, 'OCLC_NUMBER': str})\n",
    "    all_results = []\n",
    "\n",
    "    token = get_token()\n",
    "\n",
    "    #Set as True to fetch summary holdings data and harvest TOTAL_LIBRARIES_HOLDING_ITEM, set as False if not needed\n",
    "    get_summary = True\n",
    "\n",
    "    for _, row in oclclist_df.iterrows():\n",
    "        oclc_number = row['OCLC_NUMBER']\n",
    "        record_id = row['RECORD_ID']\n",
    "        if not oclc_number:\n",
    "            continue\n",
    "\n",
    "        if token.is_expired():\n",
    "            print(\"Refreshing token!\")\n",
    "            token = get_token()\n",
    "\n",
    "        holdings_rows = get_holdings_data(oclc_number, token, LIBRARY_SYMBOLS)\n",
    "\n",
    "        if get_summary:\n",
    "            summary_rows = get_summary_data(oclc_number, token)\n",
    "            for summary_row in summary_rows:\n",
    "                for holdings_row in holdings_rows:\n",
    "                    holdings_row.update(summary_row)\n",
    "\n",
    "        all_results.extend(holdings_rows)\n",
    "        print(f\"Processed OCLC {oclc_number}\")\n",
    "        time.sleep(0.2)\n",
    "\n",
    "    holdings_df = pd.DataFrame(all_results)\n",
    "    merged_df = pd.merge(oclclist_df, holdings_df, on=\"OCLC_NUMBER\", how=\"left\")\n",
    "    merged_df.to_excel(OUTPUT_FILE, index=False)\n",
    "    print(f\"Data exported to {OUTPUT_FILE}.\")\n",
    "\n",
    "    #Optional filter to export separate file with only rows matching parameters, update or comment out as needed\n",
    "    library_symbol_str = '_'.join(LIBRARY_SYMBOLS)\n",
    "    filtered_df = merged_df[merged_df['LIBRARY'].apply(lambda x: any(symbol in str(x) for symbol in LIBRARY_SYMBOLS))]\n",
    "    if not filtered_df.empty:\n",
    "        filtered_file = OUTPUT_FILE.replace(\".xlsx\", f\"_Filtered.xlsx\")\n",
    "        filtered_df.to_excel(filtered_file, index=False)\n",
    "        print(f\"Library holdings data exported to {filtered_file}\")\n",
    "    else:\n",
    "        print(f\"No rows matching {LIBRARY_SYMBOLS} found.\")\n",
    "\n",
    "if __name__ == \"__main__\":\n",
    "    main()\n",
    "    "
   ]
  }
 ],
 "metadata": {
  "kernelspec": {
   "display_name": "Python 3",
   "language": "python",
   "name": "python3"
  },
  "language_info": {
   "codemirror_mode": {
    "name": "ipython",
    "version": 3
   },
   "file_extension": ".py",
   "mimetype": "text/x-python",
   "name": "python",
   "nbconvert_exporter": "python",
   "pygments_lexer": "ipython3",
   "version": "3.12.5"
  }
 },
 "nbformat": 4,
 "nbformat_minor": 5
}
